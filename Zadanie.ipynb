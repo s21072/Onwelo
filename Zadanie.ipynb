{
 "cells": [
  {
   "attachments": {},
   "cell_type": "markdown",
   "metadata": {},
   "source": [
    "Imports"
   ]
  },
  {
   "cell_type": "code",
   "execution_count": 2,
   "metadata": {},
   "outputs": [],
   "source": [
    "import sqlite3\n",
    "import datetime\n",
    "import pandas as pd\n",
    "import math\n",
    "import numpy as np\n",
    "import requests\n",
    "import json"
   ]
  },
  {
   "attachments": {},
   "cell_type": "markdown",
   "metadata": {},
   "source": [
    "Connection to db file"
   ]
  },
  {
   "cell_type": "code",
   "execution_count": 4,
   "metadata": {},
   "outputs": [],
   "source": [
    "connnection = sqlite3.connect(\"sqlite.db\")\n",
    "cursor = connnection.cursor()"
   ]
  },
  {
   "attachments": {},
   "cell_type": "markdown",
   "metadata": {},
   "source": [
    "Initial tests"
   ]
  },
  {
   "cell_type": "code",
   "execution_count": 5,
   "metadata": {},
   "outputs": [
    {
     "data": {
      "text/plain": [
       "('2026-02-17',)"
      ]
     },
     "execution_count": 5,
     "metadata": {},
     "output_type": "execute_result"
    }
   ],
   "source": [
    "asd = cursor.execute(\"SELECT Data FROM Czas\")\n",
    "asd.fetchone()"
   ]
  },
  {
   "cell_type": "code",
   "execution_count": 28,
   "metadata": {},
   "outputs": [],
   "source": [
    "date_to_raw = datetime.datetime.now().date()"
   ]
  },
  {
   "attachments": {},
   "cell_type": "markdown",
   "metadata": {},
   "source": [
    "Methods"
   ]
  },
  {
   "cell_type": "code",
   "execution_count": 73,
   "metadata": {},
   "outputs": [],
   "source": [
    "def finance_year(month, year):\n",
    "    if month > 6:\n",
    "        return year+1\n",
    "    return year"
   ]
  },
  {
   "cell_type": "code",
   "execution_count": 74,
   "metadata": {},
   "outputs": [],
   "source": [
    "def quarter_year(month):\n",
    "    return math.ceil(month/3)"
   ]
  },
  {
   "cell_type": "code",
   "execution_count": 142,
   "metadata": {},
   "outputs": [],
   "source": [
    "def adding_missing_dates(x):\n",
    "    missing_dates = pd.DataFrame(x)\n",
    "    missing_dates.rename(columns={ 'Czas_Data' : 'Data'}, inplace=True)\n",
    "    temp_kwartal = []\n",
    "    temp_rok_finansowy = []\n",
    "\n",
    "    for i in range(len(missing_dates)):\n",
    "        temp_kwartal.append(quarter_year(missing_dates[\"Data\"][i].month))\n",
    "        temp_rok_finansowy.append(finance_year(missing_dates[\"Data\"][i].month, missing_dates[\"Data\"][i].year))\n",
    "\n",
    "    missing_dates[\"Kwartal\"] = temp_kwartal\n",
    "    missing_dates[\"Rok_finansowy\"] = temp_rok_finansowy\n",
    "    try:\n",
    "        missing_dates.to_sql('Czas', connnection, if_exists='append', index=False)\n",
    "    except:\n",
    "        print(\"Date already exists\")"
   ]
  },
  {
   "attachments": {},
   "cell_type": "markdown",
   "metadata": {},
   "source": [
    "Table Czas initialization "
   ]
  },
  {
   "cell_type": "code",
   "execution_count": 37,
   "metadata": {},
   "outputs": [],
   "source": [
    "time_raws =[]\n",
    "for i in range(1000):\n",
    "    time_raws.append([date_to_raw, quarter_year(date_to_raw.month), finance_year(date_to_raw.month,date_to_raw.year)])\n",
    "    date_to_raw += datetime.timedelta(days=1)"
   ]
  },
  {
   "cell_type": "code",
   "execution_count": 38,
   "metadata": {},
   "outputs": [
    {
     "data": {
      "text/plain": [
       "<sqlite3.Cursor at 0x1816a1a9640>"
      ]
     },
     "execution_count": 38,
     "metadata": {},
     "output_type": "execute_result"
    }
   ],
   "source": [
    "cursor.executemany(\"insert into Czas values(?,?,?)\", time_raws)"
   ]
  },
  {
   "cell_type": "code",
   "execution_count": 41,
   "metadata": {},
   "outputs": [],
   "source": [
    "connnection.commit()"
   ]
  },
  {
   "attachments": {},
   "cell_type": "markdown",
   "metadata": {},
   "source": [
    "Table Geografia initialization"
   ]
  },
  {
   "cell_type": "code",
   "execution_count": 44,
   "metadata": {},
   "outputs": [],
   "source": [
    "df = pd.read_csv(\"economist_country_codes.csv\", sep=\";\")"
   ]
  },
  {
   "cell_type": "code",
   "execution_count": 65,
   "metadata": {},
   "outputs": [],
   "source": [
    "date_start =[]\n",
    "for i in range(df[\"COUNTRY|CODE\"].size):\n",
    "    date_start.append(datetime.datetime.now().date())\n",
    "df['Start_Data'] = date_start\n",
    "df['End_Data'] = pd.NaT"
   ]
  },
  {
   "cell_type": "code",
   "execution_count": 70,
   "metadata": {},
   "outputs": [],
   "source": [
    "df.rename(columns={'COUNTRY|CODE': 'Kraj'}, inplace=True)"
   ]
  },
  {
   "cell_type": "code",
   "execution_count": 71,
   "metadata": {},
   "outputs": [
    {
     "data": {
      "text/plain": [
       "58"
      ]
     },
     "execution_count": 71,
     "metadata": {},
     "output_type": "execute_result"
    }
   ],
   "source": [
    "df.to_sql('Geografia', connnection, if_exists='append', index=False)"
   ]
  },
  {
   "attachments": {},
   "cell_type": "markdown",
   "metadata": {},
   "source": [
    "Table BMI initialization - since the dates in dataset are earlier than initialy initialized dates in table Czas, there'll be a need to add those specific dates later"
   ]
  },
  {
   "cell_type": "code",
   "execution_count": 7,
   "metadata": {},
   "outputs": [],
   "source": [
    "bmi = pd.read_sql(\"select Kraj from Geografia\", connnection)"
   ]
  },
  {
   "cell_type": "code",
   "execution_count": 15,
   "metadata": {},
   "outputs": [
    {
     "data": {
      "text/plain": [
       "'AUS'"
      ]
     },
     "execution_count": 15,
     "metadata": {},
     "output_type": "execute_result"
    }
   ],
   "source": [
    "country_code = []\n",
    "\n",
    "for raw in bmi['Kraj']:\n",
    "    country_code.append(str(raw).split('|'))\n",
    "#country_code[i][1]"
   ]
  },
  {
   "attachments": {},
   "cell_type": "markdown",
   "metadata": {},
   "source": [
    "API datapoints"
   ]
  },
  {
   "cell_type": "code",
   "execution_count": 112,
   "metadata": {},
   "outputs": [],
   "source": [
    "urls_local_price = []\n",
    "urls_dollar_price = []\n",
    "urls_dollar_ppp = []\n",
    "\n",
    "for i in range(len(country_code)):\n",
    "    urls_local_price.append(f\"https://data.nasdaq.com/api/v3/datasets/ECONOMIST/BIGMAC_{country_code[i][1]}?column_index=1&api_key=oCZQmK4DSs6pkpCsQurZ\")\n",
    "    urls_dollar_price.append(f\"https://data.nasdaq.com/api/v3/datasets/ECONOMIST/BIGMAC_{country_code[i][1]}?column_index=3&api_key=oCZQmK4DSs6pkpCsQurZ\")\n",
    "    urls_dollar_ppp.append(f\"https://data.nasdaq.com/api/v3/datasets/ECONOMIST/BIGMAC_{country_code[i][1]}?column_index=4&api_key=oCZQmK4DSs6pkpCsQurZ\")\n",
    "    "
   ]
  },
  {
   "cell_type": "code",
   "execution_count": 143,
   "metadata": {},
   "outputs": [
    {
     "name": "stdout",
     "output_type": "stream",
     "text": [
      "Date already exists\n",
      "Date already exists\n",
      "Date already exists\n",
      "Date already exists\n",
      "Date already exists\n",
      "Date already exists\n",
      "Date already exists\n",
      "Date already exists\n",
      "Date already exists\n",
      "Date already exists\n",
      "Date already exists\n",
      "Date already exists\n",
      "Date already exists\n",
      "Date already exists\n",
      "Date already exists\n",
      "Date already exists\n",
      "Date already exists\n",
      "Date already exists\n",
      "Date already exists\n",
      "Date already exists\n",
      "Date already exists\n",
      "Date already exists\n",
      "Date already exists\n",
      "Date already exists\n",
      "Date already exists\n",
      "Date already exists\n",
      "Date already exists\n",
      "Date already exists\n",
      "Date already exists\n",
      "Date already exists\n",
      "Date already exists\n",
      "Date already exists\n",
      "Date already exists\n",
      "Date already exists\n",
      "Date already exists\n",
      "Date already exists\n",
      "Date already exists\n",
      "Date already exists\n",
      "Date already exists\n",
      "Date already exists\n",
      "Date already exists\n",
      "Date already exists\n",
      "Date already exists\n",
      "Date already exists\n",
      "Date already exists\n",
      "Date already exists\n",
      "Date already exists\n",
      "Date already exists\n",
      "Date already exists\n",
      "Date already exists\n",
      "Date already exists\n",
      "Date already exists\n",
      "Date already exists\n",
      "Date already exists\n",
      "Date already exists\n",
      "Date already exists\n",
      "Date already exists\n",
      "Date already exists\n"
     ]
    }
   ],
   "source": [
    "for i, raw in enumerate(country_code):\n",
    "    local_price_json = requests.get(urls_local_price[i]).json()\n",
    "    dollar_price_json = requests.get(urls_dollar_price[i]).json()\n",
    "    dollar_ppp_json = requests.get(urls_dollar_ppp[i]).json()\n",
    "    \n",
    "    bmi_full = pd.DataFrame(local_price_json['dataset']['data'], columns=[\"Czas_Data\",\"Local_Price\"])\n",
    "    bmi_full['Czas_Data'] = pd.to_datetime(bmi_full['Czas_Data'])\n",
    "    \n",
    "    adding_missing_dates(bmi_full['Czas_Data'])\n",
    "\n",
    "    temp = pd.DataFrame(dollar_price_json['dataset']['data'], columns=[\"to_drop\",\"Dollar_Price\"])\n",
    "    bmi_full[\"Dollar_Price\"] = temp['Dollar_Price']\n",
    "    temp = pd.DataFrame(dollar_ppp_json['dataset']['data'], columns=[\"to_drop\",\"Dolar_PPP\"])\n",
    "    bmi_full[\"Dolar_PPP\"] = temp['Dolar_PPP']\n",
    "    bmi_full[\"Geografia_ID_Kraj\"] = country_code[i][0] + \"|\" + country_code[i][1]\n",
    "\n",
    "    bmi_full.to_sql('BigMacIndex', connnection, if_exists='append', index=False)\n",
    "    bmi_full = pd.DataFrame(columns=bmi_full.columns)"
   ]
  },
  {
   "cell_type": "code",
   "execution_count": 144,
   "metadata": {},
   "outputs": [],
   "source": [
    "connnection.close()"
   ]
  },
  {
   "cell_type": "code",
   "execution_count": null,
   "metadata": {},
   "outputs": [],
   "source": []
  }
 ],
 "metadata": {
  "kernelspec": {
   "display_name": "Python 3",
   "language": "python",
   "name": "python3"
  },
  "language_info": {
   "codemirror_mode": {
    "name": "ipython",
    "version": 3
   },
   "file_extension": ".py",
   "mimetype": "text/x-python",
   "name": "python",
   "nbconvert_exporter": "python",
   "pygments_lexer": "ipython3",
   "version": "3.11.2"
  },
  "orig_nbformat": 4,
  "vscode": {
   "interpreter": {
    "hash": "ed4f6b93fbe19c95719bc1a7002bee3e4beaee15c0734a1eba9c7d9e80febf93"
   }
  }
 },
 "nbformat": 4,
 "nbformat_minor": 2
}
