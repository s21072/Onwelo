{
 "cells": [
  {
   "attachments": {},
   "cell_type": "markdown",
   "metadata": {},
   "source": [
    "Imports"
   ]
  },
  {
   "cell_type": "code",
   "execution_count": 44,
   "metadata": {},
   "outputs": [],
   "source": [
    "import sqlite3\n",
    "import pandas as pd\n",
    "import numpy as np\n",
    "import datetime\n",
    "from pandas_scd import scd2"
   ]
  },
  {
   "attachments": {},
   "cell_type": "markdown",
   "metadata": {},
   "source": [
    "Connection to db file"
   ]
  },
  {
   "cell_type": "code",
   "execution_count": 3,
   "metadata": {},
   "outputs": [],
   "source": [
    "connnection = sqlite3.connect(\"sqlite.db\")\n",
    "cursor = connnection.cursor()"
   ]
  },
  {
   "attachments": {},
   "cell_type": "markdown",
   "metadata": {},
   "source": [
    "Table Geografia initialization - SCD Type 2 by Region"
   ]
  },
  {
   "cell_type": "code",
   "execution_count": 94,
   "metadata": {},
   "outputs": [],
   "source": [
    "#Manualy changed few regions, than read csv file\n",
    "df_change = pd.read_csv(\"economist_country_codes.csv\", sep=\";\")\n",
    "df_change.rename(columns={'COUNTRY|CODE': 'Kraj', 'REGION' : 'Region'}, inplace=True)\n",
    "#Getting data from DB of still active records\n",
    "df_DB = pd.read_sql(\"select * from Geografia where End_Data is Null\", connnection)\n",
    "df_DB['is_active'] = True\n",
    "df_DB.rename(columns={'COUNTRY|CODE': 'Kraj', 'REGION' : 'Region', 'Start_Data': 'start_ts', 'End_Data': 'end_ts'}, inplace=True)"
   ]
  },
  {
   "cell_type": "code",
   "execution_count": 95,
   "metadata": {},
   "outputs": [],
   "source": [
    "date_to_raw = datetime.datetime.now().date()"
   ]
  },
  {
   "cell_type": "code",
   "execution_count": 96,
   "metadata": {},
   "outputs": [
    {
     "name": "stdout",
     "output_type": "stream",
     "text": [
      "+------------------------------------------+-------------+\n",
      "| category                                 |   row count |\n",
      "|------------------------------------------+-------------|\n",
      "| unchanged active keys (active - old)     |          56 |\n",
      "| unchanged inactive keys (inactive - old) |           0 |\n",
      "| ended keys (inactive - new)              |           2 |\n",
      "| new keys (active - new)                  |           2 |\n",
      "| total                                    |          60 |\n",
      "+------------------------------------------+-------------+\n"
     ]
    }
   ],
   "source": [
    "df_target = scd2( df_change, df_DB)"
   ]
  },
  {
   "cell_type": "code",
   "execution_count": 98,
   "metadata": {},
   "outputs": [],
   "source": [
    "df_target = df_target.drop(df_target.columns[-1], axis=1)"
   ]
  },
  {
   "cell_type": "code",
   "execution_count": 116,
   "metadata": {},
   "outputs": [],
   "source": [
    "df_target['start_ts'] = pd.to_datetime(df_target['start_ts'], format='mixed').dt.date\n",
    "df_target['end_ts'] = pd.to_datetime(df_target['end_ts'], format='mixed').dt.date\n",
    "df_target.rename(columns={'start_ts': 'Start_Data', 'end_ts': 'End_Data'}, inplace=True)"
   ]
  },
  {
   "cell_type": "code",
   "execution_count": 150,
   "metadata": {},
   "outputs": [],
   "source": [
    "update_temp = pd.concat([df_change, df_DB]).drop_duplicates(subset=['Kraj', 'Region'], keep=False)\n",
    "update_temp = update_temp.drop_duplicates(subset=['Kraj'], keep='first')"
   ]
  },
  {
   "cell_type": "code",
   "execution_count": 196,
   "metadata": {},
   "outputs": [],
   "source": [
    "update_db = pd.DataFrame()\n",
    "for kraj_name in update_temp['Kraj']:\n",
    "    update_db = pd.concat([update_db, df_target[df_target['Kraj'] == kraj_name]])\n",
    "update_db = update_db.replace([pd.NaT], [None])"
   ]
  },
  {
   "cell_type": "code",
   "execution_count": 199,
   "metadata": {},
   "outputs": [],
   "source": [
    "sql_insert_update_query = \"insert into Geografia (ID_Kraj, Kraj,Region, Start_Data, End_Data) values(?,?,?,?,?) ON conflict(ID_Kraj) do update set End_Data = End_Data;\"\n",
    "for i in update_db.to_numpy():\n",
    "    cursor.execute(sql_insert_update_query, i)"
   ]
  },
  {
   "cell_type": "code",
   "execution_count": 198,
   "metadata": {},
   "outputs": [
    {
     "data": {
      "text/plain": [
       "ID_Kraj       float64\n",
       "Kraj           object\n",
       "Region         object\n",
       "Start_Data     object\n",
       "End_Data       object\n",
       "dtype: object"
      ]
     },
     "execution_count": 198,
     "metadata": {},
     "output_type": "execute_result"
    }
   ],
   "source": [
    "update_db.dtypes"
   ]
  },
  {
   "cell_type": "code",
   "execution_count": null,
   "metadata": {},
   "outputs": [],
   "source": []
  }
 ],
 "metadata": {
  "kernelspec": {
   "display_name": "Python 3",
   "language": "python",
   "name": "python3"
  },
  "language_info": {
   "codemirror_mode": {
    "name": "ipython",
    "version": 3
   },
   "file_extension": ".py",
   "mimetype": "text/x-python",
   "name": "python",
   "nbconvert_exporter": "python",
   "pygments_lexer": "ipython3",
   "version": "3.11.2"
  },
  "orig_nbformat": 4
 },
 "nbformat": 4,
 "nbformat_minor": 2
}
